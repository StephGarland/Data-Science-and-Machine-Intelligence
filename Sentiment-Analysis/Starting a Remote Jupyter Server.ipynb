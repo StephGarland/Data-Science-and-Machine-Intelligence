{
 "cells": [
  {
   "cell_type": "markdown",
   "metadata": {},
   "source": [
    "# Remote Jupyter Servers\n",
    "By default, jupyter servers run locally on the machine that launches the notebook. They can be run on remote servers though - which is useful if you have access to a computer with a fancy-pants GPU, like the OP-VR Machine. They are intended to be accessed by one user at a time.\n",
    "\n",
    "## The OP-VR Server:\n",
    "One of my tasks in the first semester of 2018 was to put a new NVIDIA GPU into a computer in the project room, and to install the GPU versions of tensorflow and keras. This computer is/was named the OP-VR machine, as it was originally used for Virtual Reality projects. In early 2018 it was being used by the Games Development Group, and by the Natural Language Processing Group.\n",
    "\n",
    "At the time of writing this, any remote access to anything on an Otago Polytechnic network is heavily controlled. Because of this, access to the OP-VR Jupyter server is not available unless you're at tech, and have an ethernet cable. \n",
    "\n",
    "In order to launch the OP-VR Jupyter notebook server:\n",
    "1. Open Anaconda Prompt\n",
    "2. Activate the tensorflow environment with the command **activate tensorflow**\n",
    "3. Launch the server with the command **jupyter notebook**\n",
    "\n",
    "I didn't set up certificates or keys as this server is inaccessible from outside of the network, but I did set a password. This can be obtained from David or I. This server needs to be running in order for a user to connect to it. If, for example, the OP-VR machine is reset, the server will have to be re-started.\n",
    "To connect, follow the above three steps on the 'remote' computer. Change the url to .\n",
    "\n",
    "## Setting up a remote server:\n",
    "I followed this guide in setting up the server:\n",
    "http://jupyter-notebook.readthedocs.io/en/stable/public_server.html\n",
    "\n",
    "The only additional note I would make is that if you are unable to access the server after following the tutorial, check in with the network admin about any potential blocks that may be in place."
   ]
  },
  {
   "cell_type": "code",
   "execution_count": null,
   "metadata": {
    "collapsed": true
   },
   "outputs": [],
   "source": []
  }
 ],
 "metadata": {
  "kernelspec": {
   "display_name": "Python 3",
   "language": "python",
   "name": "python3"
  },
  "language_info": {
   "codemirror_mode": {
    "name": "ipython",
    "version": 3
   },
   "file_extension": ".py",
   "mimetype": "text/x-python",
   "name": "python",
   "nbconvert_exporter": "python",
   "pygments_lexer": "ipython3",
   "version": "3.5.4"
  }
 },
 "nbformat": 4,
 "nbformat_minor": 2
}
