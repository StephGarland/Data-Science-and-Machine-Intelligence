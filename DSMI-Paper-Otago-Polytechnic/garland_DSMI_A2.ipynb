{
 "cells": [
  {
   "cell_type": "markdown",
   "metadata": {},
   "source": [
    "# Assignment 2"
   ]
  },
  {
   "cell_type": "markdown",
   "metadata": {},
   "source": [
    "# Exercise 1 - Classification"
   ]
  },
  {
   "cell_type": "markdown",
   "metadata": {},
   "source": [
    "\"Churn Rate\" is a business term describing the rate at which customers leave or cease paying for a product or service. It's a critical figure in many businesses. Understanding what keeps customers engaged is valuable. Consequently, there's growing interest among companies to develop better churn-detection techniques. Predicting churn is particularly important for businesses with subscription models such as cell phone, pay-TV, or any type of service in exchange of a subscription fee. \n",
    "\n",
    "The data set we'll be using `churn.csv` is real data from a Telecommunications company customer data set. Each row represents a subscribing telephone customer. Each column contains customer attributes such as call minutes used during different times of day, charges incurred for services, lifetime account duration, etc. The last column is the label indicating whether the customer quit the service (1) or is still a customer of the telecom company (0). \n",
    "\n",
    "your task:\n",
    "\n",
    "- Read the data from the file into the appropriate $X$ and $y$ data structures.\n",
    "- Split the data into a training set and test set (test set size should be 33%)\n",
    "- Scale the data using the StandardScaler class from scikit-learn\n",
    "- Train a logistic regression model and estimate its performance on the test data\n",
    "- Train a K nearest neighbors classifier and estimate its performance on the test data\n",
    "- Train a support vector machine classifier (using a radial basis function as kernel) and estimate its performance on the test data\n",
    "- Print out a confusion matrix for the support vector machine classifier\n",
    "- Print out a classification report for the support vector machine classifier (displaying precision, recall and f1-score)\n",
    "- Plot an ROC curve for the logistic regression model classifier"
   ]
  },
  {
   "cell_type": "markdown",
   "metadata": {},
   "source": [
    "# Exercise 1 - Classification solution"
   ]
  },
  {
   "cell_type": "code",
   "execution_count": 7,
   "metadata": {},
   "outputs": [
    {
     "name": "stdout",
     "output_type": "stream",
     "text": [
      "Logistic Regression Model Score:  0.861818181818\n",
      "K Nearest Neighbours Score (9 Neighbours):  0.894545454545\n",
      "Support Vector Machine Score:  0.912727272727\n",
      "\n",
      "Predicted     0   1   All\n",
      "Actual                   \n",
      "0           931  15   946\n",
      "1            81  73   154\n",
      "All        1012  88  1100\n",
      "\n",
      "             precision    recall  f1-score   support\n",
      "\n",
      "          0       0.92      0.98      0.95       946\n",
      "          1       0.83      0.47      0.60       154\n",
      "\n",
      "avg / total       0.91      0.91      0.90      1100\n",
      "\n"
     ]
    },
    {
     "data": {
      "image/png": "[encoded data removed]",
      "text/plain": [
       "<matplotlib.figure.Figure at 0x2972be77ac8>"
      ]
     },
     "metadata": {},
     "output_type": "display_data"
    }
   ],
   "source": [
    "#Read the data from the file into the appropriate XX and yy data structures.\n",
    "import pandas as pd\n",
    "data = pd.read_csv('churn.csv', index_col=0)\n",
    "\n",
    "import numpy as np\n",
    "from sklearn.utils import shuffle\n",
    "X = np.array(data.ix[:,0:17])\n",
    "y = np.array(data.ix[:,17])\n",
    "X, y = shuffle(X, y, random_state=1)\n",
    "\n",
    "#Scale the data using the StandardScaler class from scikit-learn.\n",
    "from sklearn import preprocessing\n",
    "X_scaled = preprocessing.scale(X)\n",
    "\n",
    "#Split the data into a training set and test set (test set size should be 33%)\n",
    "from sklearn.cross_validation import train_test_split\n",
    "X_train, X_test, y_train, y_test = train_test_split(X_scaled, y, test_size=0.33, random_state=42)\n",
    "\n",
    "#Train a logistic regression model and estimate its performance on the test data\n",
    "from sklearn.linear_model import LogisticRegression\n",
    "logRegModel = LogisticRegression()\n",
    "logRegModel.fit(X_train, y_train)\n",
    "print(\"Logistic Regression Model Score: \",logRegModel.score(X_test, y_test))\n",
    "\n",
    "#Train a K nearest neighbors classifier and estimate its performance on the test data\n",
    "from sklearn.neighbors import KNeighborsClassifier\n",
    "knn = KNeighborsClassifier(n_neighbors=9)  \n",
    "knn.fit(X_train, y_train)\n",
    "print(\"K Nearest Neighbours Score (9 Neighbours): \", knn.score(X_test, y_test))\n",
    "\n",
    "#Train a support vector machine classifier (using a radial basis function as kernel) and estimate its performance on the test data\n",
    "from sklearn.svm import SVC # \"Support Vector Classifier\"\n",
    "clf = SVC(C=1,kernel='rbf')\n",
    "clf.probability = True\n",
    "clf.fit(X_train, y_train)\n",
    "print(\"Support Vector Machine Score: \", clf.score(X_test, y_test))\n",
    "\n",
    "#Print out a confusion matrix for the support vector machine classifier\n",
    "import pandas as pd\n",
    "y_pred = clf.predict(X_test)\n",
    "df_confusion = pd.crosstab(y_test, y_pred, rownames=['Actual'], colnames=['Predicted'], margins=True)\n",
    "print()\n",
    "print(df_confusion)\n",
    "\n",
    "#Print out a classification report for the support vector machine classifier (displaying precision, recall and f1-score)\n",
    "from sklearn import metrics\n",
    "y_pred = clf.predict(X_test)\n",
    "print()\n",
    "print(metrics.classification_report(y_test, y_pred))\n",
    "\n",
    "#Plot an ROC curve for the logistic regression model classifier\n",
    "%matplotlib inline\n",
    "import matplotlib.pyplot as plt\n",
    "y_pred_prob = clf.predict_proba(X_test)[:, 1]\n",
    "fpr, tpr, thresholds = metrics.roc_curve(y_test, y_pred_prob)\n",
    "plt.plot(fpr, tpr)\n",
    "plt.xlim([0.0, 1.0])\n",
    "plt.ylim([0.0, 1.0])\n",
    "plt.title('ROC curve for disactivated-customer classifier')\n",
    "plt.xlabel('False Positive Rate (1 - Specificity)')\n",
    "plt.ylabel('True Positive Rate (Sensitivity)')\n",
    "plt.grid(True)"
   ]
  },
  {
   "cell_type": "markdown",
   "metadata": {},
   "source": [
    "# Exercise 2 – Regularization"
   ]
  },
  {
   "cell_type": "markdown",
   "metadata": {},
   "source": [
    "Using the Boston house prices [data set](http://scikit-learn.org/stable/modules/generated/sklearn.datasets.load_boston.html):\n",
    "\n",
    "- Fit a linear regression model using Ridge regularization \n",
    "- Fit a linear regression models using Lasso regularization\n",
    "- Print out the coefficients of each model.\n",
    "- In your own words, describe what is most striking difference between the coefficients of both models.\n",
    "\n",
    "I provide you with some initial code to get you started:"
   ]
  },
  {
   "cell_type": "code",
   "execution_count": 3,
   "metadata": {
    "collapsed": true
   },
   "outputs": [],
   "source": [
    "from sklearn.cross_validation import KFold\n",
    "from sklearn.linear_model import LinearRegression, Lasso, Ridge, ElasticNet, SGDRegressor\n",
    "import numpy as np\n",
    "import pylab as pl\n",
    "\n",
    "from sklearn.datasets import load_boston\n",
    "boston = load_boston()\n",
    "\n",
    "X = np.array([np.concatenate((v,[1])) for v in boston.data])\n",
    "y = boston.target\n",
    "\n",
    "from sklearn.cross_validation import train_test_split\n",
    "X_train, X_test, y_train, y_test = train_test_split(X, y, test_size=0.2, random_state=42)"
   ]
  },
  {
   "cell_type": "markdown",
   "metadata": {},
   "source": [
    "# Exercise 2 – Regularization Solution"
   ]
  },
  {
   "cell_type": "code",
   "execution_count": 6,
   "metadata": {},
   "outputs": [
    {
     "name": "stdout",
     "output_type": "stream",
     "text": [
      "Unregularised model score:  0.668482575397\n",
      "Coefficients:\n",
      "-0.11, 0.03, 0.04, 2.79, -17.24, 4.43, -0.01, -1.45, 0.26, -0.01, -0.92, 0.01, -0.51, 0.00,\n",
      "\n",
      "Ridge regularised model score:  0.665960807526\n",
      "Coefficients:\n",
      "-0.11, 0.03, 0.01, 2.55, -9.56, 4.46, -0.01, -1.34, 0.25, -0.01, -0.83, 0.01, -0.52, 0.00,\n",
      "\n",
      "Lasso regularised model score:  0.656705559418\n",
      "Coefficients:\n",
      "-0.10, 0.03, -0.02, 0.92, -0.00, 4.31, -0.02, -1.15, 0.24, -0.01, -0.73, 0.01, -0.57, 0.00,\n",
      "\n",
      "As expected, the ridge model shrinks the coefficients towards 0, and the lasso model shrinks to 0. The most striking difference in this implementation is the regularisation of the 5th feature (NOX: nitric oxides concentration.) While both models penalise NOX, the lasso model shrinks it all the way to zero - effectively removing it from the model, indicating it as an irrelevant feature.\n"
     ]
    }
   ],
   "source": [
    "from sklearn.linear_model import LinearRegression, Lasso, Ridge\n",
    "import numpy as np\n",
    "\n",
    "from sklearn.datasets import load_boston\n",
    "boston = load_boston()\n",
    "\n",
    "X = np.array([np.concatenate((v,[1])) for v in boston.data])\n",
    "y = boston.target\n",
    "\n",
    "from sklearn.cross_validation import train_test_split\n",
    "X_train, X_test, y_train, y_test = train_test_split(X, y, test_size=0.2, random_state=42)\n",
    "\n",
    "lr = LinearRegression()\n",
    "lr.fit(X_train, y_train)\n",
    "print(\"Unregularised model score: \",lr.score(X_test, y_test))\n",
    "print('Coefficients:\\n'+' '.join(['%.2f,' % c for c in lr.coef_]))\n",
    "print()\n",
    "ridgeModel = Ridge(alpha=1.0)\n",
    "ridgeModel.fit(X_train, y_train) \n",
    "print(\"Ridge regularised model score: \",ridgeModel.score(X_test, y_test))\n",
    "print('Coefficients:\\n'+' '.join(['%.2f,' % c for c in ridgeModel.coef_]))\n",
    "print()\n",
    "lassoModel = Lasso(alpha=0.1)\n",
    "lassoModel.fit(X_train, y_train);\n",
    "print(\"Lasso regularised model score: \",lassoModel.score(X_test, y_test))\n",
    "print('Coefficients:\\n'+' '.join(['%.2f,' % c for c in lassoModel.coef_]))\n",
    "print()\n",
    "print(\"As expected, the ridge model shrinks the coefficients towards 0, and the lasso model shrinks to 0. The most striking difference in this implementation is the regularisation of the 5th feature (NOX: nitric oxides concentration.) While both models penalise NOX, the lasso model shrinks it all the way to zero - effectively removing it from the model, indicating it as an irrelevant feature.\")  \n"
   ]
  },
  {
   "cell_type": "markdown",
   "metadata": {},
   "source": [
    "# Exercise 3 – Machine Vision"
   ]
  },
  {
   "cell_type": "markdown",
   "metadata": {},
   "source": [
    "- Create an application that monitors a video stream from the web camera and accurately tracks a wall clock if it appears anywhere on the image. I will use the following image to test your application, so make sure your application works well with it.\n",
    "\n",
    "<img src=\"./images/wallclock.jpg\" width=\"100\" height=\"100\" />\n"
   ]
  },
  {
   "cell_type": "markdown",
   "metadata": {
    "collapsed": true
   },
   "source": [
    "# Exercise 3 – Machine Vision Solution"
   ]
  },
  {
   "cell_type": "code",
   "execution_count": 3,
   "metadata": {},
   "outputs": [
    {
     "ename": "ModuleNotFoundError",
     "evalue": "No module named 'cv2'",
     "output_type": "error",
     "traceback": [
      "\u001b[1;31m---------------------------------------------------------------------------\u001b[0m",
      "\u001b[1;31mModuleNotFoundError\u001b[0m                       Traceback (most recent call last)",
      "\u001b[1;32m<ipython-input-3-7655c5b1238d>\u001b[0m in \u001b[0;36m<module>\u001b[1;34m()\u001b[0m\n\u001b[0;32m      1\u001b[0m \u001b[1;32mimport\u001b[0m \u001b[0msys\u001b[0m\u001b[1;33m\u001b[0m\u001b[0m\n\u001b[1;32m----> 2\u001b[1;33m \u001b[1;32mimport\u001b[0m \u001b[0mcv2\u001b[0m\u001b[1;33m\u001b[0m\u001b[0m\n\u001b[0m\u001b[0;32m      3\u001b[0m \u001b[1;33m\u001b[0m\u001b[0m\n\u001b[0;32m      4\u001b[0m \u001b[1;31m#Create a clock cascade\u001b[0m\u001b[1;33m\u001b[0m\u001b[1;33m\u001b[0m\u001b[0m\n\u001b[0;32m      5\u001b[0m \u001b[0mcascPath\u001b[0m \u001b[1;33m=\u001b[0m \u001b[1;34m'./classifier WallClock.xml'\u001b[0m\u001b[1;33m\u001b[0m\u001b[0m\n",
      "\u001b[1;31mModuleNotFoundError\u001b[0m: No module named 'cv2'"
     ]
    }
   ],
   "source": [
    "import sys\n",
    "import cv2\n",
    "\n",
    "#Create a clock cascade\n",
    "cascPath = './classifier WallClock.xml'\n",
    "clockCascade = cv2.CascadeClassifier(cascPath)\n",
    "\n",
    "#Set the video source to the default webcam\n",
    "cap = cv2.VideoCapture(0) \n",
    "\n",
    "while(True):\n",
    "\n",
    "    ret, frame = cap.read() #Capture frame-by-frame. \n",
    "    if not ret : continue   #needed to avoid empty buffer errors\n",
    "        \n",
    "    gray = cv2.cvtColor(frame, cv2.COLOR_BGR2GRAY)\n",
    "\n",
    "    #search for the clock in the captured frame.\n",
    "    faces = clockCascade.detectMultiScale(\n",
    "        gray,\n",
    "        scaleFactor=1.1,\n",
    "        minNeighbors=5,\n",
    "        minSize=(30, 30),\n",
    "        flags=cv2.CASCADE_SCALE_IMAGE\n",
    "        \n",
    "    )\n",
    "\n",
    "    # Draw a rectangle around clocks\n",
    "    for (x, y, w, h) in faces:\n",
    "        cv2.rectangle(frame, (x, y), (x+w, y+h), (0, 255, 0), 2)   \n",
    "        \n",
    "    # Display the resulting frame\n",
    "    cv2.imshow('frame',frame)\n",
    "    \n",
    "    #Exit script when 'q' is pushed\n",
    "    if cv2.waitKey(1) & 0xFF == ord('q'):\n",
    "        break\n",
    "\n",
    "# When everything done, release the capture\n",
    "cap.release()\n",
    "cv2.destroyAllWindows()"
   ]
  },
  {
   "cell_type": "markdown",
   "metadata": {},
   "source": [
    "# Exercise 4 - Natural Language Processing\n",
    "\n",
    "The file `smsData.csv` contains a bunch of real SMSes messages together with a label/target (1 for spam messages, 0 for non-spam messages). The following code reads the data from the file to the object `data`. Your task is:\n",
    "\n",
    "- Split the data to a training set (75% of the available data) and a test set (25% of the available data) \n",
    "- Use the feature extraction `CountVectorizer` to transform the data into a document-term matrix \n",
    "- Use the proper classifier (check out the notebook from the natural language processing class to find out  which one) to obtain a fitted model that is able to predict the class of a message (spam or not spam) in the test set (your goal is to get an accuracy around or above 98%)."
   ]
  },
  {
   "cell_type": "code",
   "execution_count": 1,
   "metadata": {
    "collapsed": true
   },
   "outputs": [],
   "source": [
    "import pandas as pd\n",
    "import numpy as np\n",
    "#import encoding\n",
    "#encoding=codecs.BOM_UTF8\n",
    "path = 'smsData.csv'\n",
    "data = pd.read_csv(path, sep=',', encoding='utf-8', header=None, names=['target', 'messageText'])\n",
    "X = data['messageText'];\n",
    "y = data['target'];\n",
    "#Split the data to a training set (75% of the available data) and a test set (25% of the available data)\n",
    "from sklearn.cross_validation import train_test_split\n",
    "X_train, X_test, y_train, y_test = train_test_split(X, y, test_size=0.25, random_state=42)\n",
    "\n",
    "#Use the feature extraction CountVectorizer to transform the data into a document-term matrix\n",
    "\n",
    "# import and instantiate CountVectorizer\n",
    "from sklearn.feature_extraction.text import CountVectorizer\n",
    "vect = CountVectorizer()\n",
    "\n",
    "# learn the 'vocabulary' of the training data\n",
    "vect.fit(X_train)\n",
    "dtm = vect.transform(X_train)\n",
    "\n",
    "#Use the proper classifier (check out the notebook from the natural language processing class to find out which one) to obtain a fitted model that is able to predict the class of a message (spam or not spam) in the test set (your goal is to get an accuracy around or above 98%).\n",
    "from sklearn.pipeline import Pipeline\n",
    "from sklearn.linear_model import SGDClassifier\n",
    "from sklearn.feature_extraction.text import TfidfTransformer\n",
    "\n",
    "text_clf = Pipeline([('vect', CountVectorizer(ngram_range=(1, 1))),\n",
    "                    ('tfidf', TfidfTransformer(use_idf = True)),\n",
    "                    ('clf', SGDClassifier(loss='hinge', penalty='l2',\n",
    "                    alpha=0.001, n_iter=5, random_state=42)),])\n",
    "_ = text_clf.fit(X_train, y_train)\n",
    "predicted = text_clf.predict(X_test)\n",
    "print(np.mean(predicted == y_test)) "
   ]
  },
  {
   "cell_type": "markdown",
   "metadata": {},
   "source": [
    "# Exercise 4 - Natural Language Processing Solution"
   ]
  },
  {
   "cell_type": "code",
   "execution_count": null,
   "metadata": {
    "collapsed": true
   },
   "outputs": [],
   "source": []
  },
  {
   "cell_type": "markdown",
   "metadata": {},
   "source": [
    "# Exercise 5 - Signal Processing\n",
    "\n",
    "Revise the Python notebook for the signal processing lecture, specifically the subsection titled \"Seeing sound! where a time domain and frequency domain representations of an `ah` vowel sound signal are plotted. Take a look at the variable name \"fft_mag\" in Spyder. It is an array of frequency magnitudes present in the sound signal. You can extract the relevant\n",
    "information using the following line of code. "
   ]
  },
  {
   "cell_type": "code",
   "execution_count": 8,
   "metadata": {
    "collapsed": true
   },
   "outputs": [],
   "source": [
    "Xrow = (np.array(fft_mag[0:5000])[:,0]).reshape(1,5000)"
   ]
  },
  {
   "cell_type": "markdown",
   "metadata": {},
   "source": [
    "`Xrow` represents a single row of a feature matrix $X$. I provide you with with 10 .wav files of me uttering the words \"one\" and \"two\". Iterate through each example and construct a feature matrix $X$ where each row is the frequency representation of a single file.\n",
    "\n",
    "- Use the LogisticRegressionCV estimator and k-fold cross validation with k=3, to provide an estimation of the predictive ability of your estimator to discriminate the sound \"one\" from the sound \"two\". Your goal is to get an accuracy around or above 95%"
   ]
  },
  {
   "cell_type": "markdown",
   "metadata": {},
   "source": [
    "# Exercise 5 - Signal Processing Solution"
   ]
  },
  {
   "cell_type": "code",
   "execution_count": 8,
   "metadata": {},
   "outputs": [
    {
     "name": "stdout",
     "output_type": "stream",
     "text": [
      "0.861111111111\n"
     ]
    }
   ],
   "source": [
    "import scipy\n",
    "import numpy as np    \n",
    "import scipy.io.wavfile\n",
    "import os\n",
    "\n",
    "nfeatures = 5000\n",
    "X = np.empty([0,nfeatures])\n",
    "y = np.empty([1,0])\n",
    "for filename in os.listdir('audio_files'):\n",
    "     (sample_rate, input_signal) = scipy.io.wavfile.read(os.path.join('audio_files',filename))#read in .wav file\n",
    "     fft_out = np.fft.rfft(input_signal)\n",
    "     fft_mag = [np.sqrt(i.real**2 + i.imag**2)/len(fft_out) for i in fft_out]\n",
    "\n",
    "     Xrow = (np.array(fft_mag[0:nfeatures])[:,0]).reshape(1,nfeatures)#create row\n",
    "     X = np.append(X, Xrow, axis=0) #append row to feature matrix\n",
    "     \n",
    "     #create target matrix\n",
    "     if \"one\" in filename: \n",
    "         y = np.append(y, 1)\n",
    "     elif \"two\" in filename:\n",
    "         y = np.append(y, 2) \n",
    "\n",
    "#shuffle dataset         \n",
    "from sklearn.utils import shuffle\n",
    "X, y = shuffle(X, y, random_state=1)\n",
    "\n",
    "from sklearn import preprocessing\n",
    "X_scaled = preprocessing.scale(X)\n",
    "\n",
    "from sklearn.linear_model import LogisticRegressionCV\n",
    "from sklearn.cross_validation import cross_val_score\n",
    "\n",
    "cv = cross_val_score(LogisticRegressionCV(), X_scaled, y, cv=3)\n",
    "print(cv.mean())"
   ]
  },
  {
   "cell_type": "markdown",
   "metadata": {},
   "source": [
    "# Exercise 6 - Twitter API\n",
    "\n",
    "- Using the Twitter API and the twitter Python module, programmatically retrieve and print out the latest 5 tweets from the account NASA (@NASA). Make sure to include your own keys to the twitter API in the code snippet. "
   ]
  },
  {
   "cell_type": "markdown",
   "metadata": {},
   "source": [
    "# Exercise 6 - Twitter API Solution"
   ]
  },
  {
   "cell_type": "code",
   "execution_count": 4,
   "metadata": {},
   "outputs": [
    {
     "name": "stdout",
     "output_type": "stream",
     "text": [
      "Have you voted? @NASA_Astronauts on @Space_Station have! Learn how they cast their ballot for #Election2016:… https://t.co/rXzVu3Jdqf \n",
      "\n",
      "It's true! They #voted while they floated.  Learn how @NASA_Astronauts cast their ballot for #Election2016:… https://t.co/pxfdW44lhU \n",
      "\n",
      "Good morning America! Today's #ElectionDay. Here’s a look at our country on this Blue Marble. Remember to go vote t… https://t.co/3GuaceF0RJ \n",
      "\n",
      "RT @NASAJPL: Starting this month, @NASA is launching a suite of 6 next-generation small satellite missions to observe our planet https://t.… \n",
      "\n",
      "In this @CassiniSaturn view, methane clouds are seen moving across northern regions of Saturn’s largest moon Titan:… https://t.co/8z7ZBQTJvk \n",
      "\n"
     ]
    }
   ],
   "source": [
    "import twitter\n",
    "#use your own API credentials here\n",
    "api = twitter.Api(consumer_key=\"Uw5Z12aBJpsAk7m8R3Uy1cQAm\",\n",
    "                  consumer_secret=\"c4mdFmI4y1K5m2DStHbkFA2WKd9XarwRRM2832k7n5owiumXQ6\",\n",
    "                      access_token_key=\"788582005789319168-SaskZxvKTIDCLgBR1KdegVXVTXd70Jx\",\n",
    "                  access_token_secret=\"kqaIKMx8YpYMvvjoAWicQn9j6c7IOJrjui7TvLdkedqtx\")\n",
    "\n",
    "results = api.GetSearch(raw_query=\"from=NASA&count=5\")\n",
    "#print(results)\n",
    "for r in results:\n",
    "    print(r.text,\"\\n\")"
   ]
  },
  {
   "cell_type": "markdown",
   "metadata": {},
   "source": [
    "# Exercise 7 - K Means"
   ]
  },
  {
   "cell_type": "markdown",
   "metadata": {},
   "source": [
    "Given the following artificial data set which is unlabeled:"
   ]
  },
  {
   "cell_type": "code",
   "execution_count": 11,
   "metadata": {},
   "outputs": [
    {
     "data": {
      "image/png": "[encoded data removed]",
      "text/plain": [
       "<matplotlib.figure.Figure at 0x7704b00>"
      ]
     },
     "metadata": {},
     "output_type": "display_data"
    }
   ],
   "source": [
    "%matplotlib inline\n",
    "import matplotlib.pyplot as plt\n",
    "import numpy as np\n",
    "\n",
    "from sklearn.datasets.samples_generator import make_blobs\n",
    "X, y = make_blobs(n_samples=300, centers=4,\n",
    "                  random_state=7, cluster_std=1.2)\n",
    "plt.scatter(X[:, 0], X[:, 1], s=50);"
   ]
  },
  {
   "cell_type": "markdown",
   "metadata": {},
   "source": [
    "- Use the K-means algorithm included in scikit-learn using k=4 clusters to fit the data $X$ above and plot the data color coded for the estimated cluster each data point belongs to.\n",
    "\n",
    "Your final plot should look something like the following figure:\n",
    "\n",
    "![](images/clustering.png)"
   ]
  },
  {
   "cell_type": "markdown",
   "metadata": {},
   "source": [
    "# Exercise 7 - K Means Solution"
   ]
  },
  {
   "cell_type": "code",
   "execution_count": 3,
   "metadata": {},
   "outputs": [
    {
     "data": {
      "image/png": "[encoded data removed]",
      "text/plain": [
       "<matplotlib.figure.Figure at 0x2972d58cb00>"
      ]
     },
     "metadata": {},
     "output_type": "display_data"
    }
   ],
   "source": [
    "import matplotlib.pyplot as plt\n",
    "\n",
    "from sklearn.datasets.samples_generator import make_blobs\n",
    "X, y = make_blobs(n_samples=300, centers=4,\n",
    "                  random_state=7, cluster_std=1.2)\n",
    "            \n",
    "from sklearn.cluster import KMeans\n",
    "kmeans = KMeans(n_clusters=4, random_state=8) \n",
    "y_predicted = kmeans.fit(X).labels_ #y_predicted contains the estimated group belonging of each data point\n",
    "plt.scatter(X[:,0], X[:,1], c=y_predicted);"
   ]
  },
  {
   "cell_type": "markdown",
   "metadata": {},
   "source": [
    "# Exercise 8 - Principal Component Analysis"
   ]
  },
  {
   "cell_type": "markdown",
   "metadata": {},
   "source": [
    "We first create 200 random two-dimensional data points. The data points are sampled from a multinomial normal distribution.\n",
    "You don't have to understand precisely how to do this. Simply understand that the following code snippet creates some synthetic data:"
   ]
  },
  {
   "cell_type": "code",
   "execution_count": 29,
   "metadata": {},
   "outputs": [
    {
     "data": {
      "image/png": "[encoded data removed]",
      "text/plain": [
       "<matplotlib.figure.Figure at 0xdbfa9e8>"
      ]
     },
     "metadata": {},
     "output_type": "display_data"
    }
   ],
   "source": [
    "%matplotlib inline\n",
    "import matplotlib.pyplot as plt\n",
    "import numpy as np\n",
    "np.random.seed(seed=3)\n",
    "Cov = np.array([[2.9, -2.2], [-2.2, 6.5]])\n",
    "X = np.random.multivariate_normal([1,2], Cov, size=200)\n",
    "plt.figure(figsize=(4,4))\n",
    "plt.scatter(X[:,0], X[:,1])\n",
    "plt.axis('equal') # equal scaling on both axis;\n",
    "plt.show()"
   ]
  },
  {
   "cell_type": "markdown",
   "metadata": {},
   "source": [
    "- Use PCA to find out the 2 principal components of the data in `X`. Please, print out those 2 components and the percentage of variance explained by each one of those components."
   ]
  },
  {
   "cell_type": "markdown",
   "metadata": {},
   "source": [
    "# Exercise 8 - Principal Component Analysis Solution"
   ]
  },
  {
   "cell_type": "code",
   "execution_count": 2,
   "metadata": {},
   "outputs": [
    {
     "name": "stdout",
     "output_type": "stream",
     "text": [
      "First principal component: [-0.36320602  0.93170886]\n",
      "Percentage of variance explained: 0.770979868267\n",
      "\n",
      "Second principal component: [-0.93170886 -0.36320602]\n",
      "Percentage of variance explained: 0.229020131733\n"
     ]
    }
   ],
   "source": [
    "#Use PCA to find out the 2 principal components of the data in X. \n",
    "#Please, print out those 2 components and the percentage of variance explained by each one of those components.\n",
    "from sklearn.decomposition import PCA\n",
    "pca = PCA(n_components=2)\n",
    "pca.fit(X)\n",
    "print(\"First principal component:\", pca.components_[0])\n",
    "print(\"Percentage of variance explained:\",pca.explained_variance_ratio_[0])\n",
    "print()\n",
    "print(\"Second principal component:\", pca.components_[1])\n",
    "print(\"Percentage of variance explained:\",pca.explained_variance_ratio_[1])"
   ]
  },
  {
   "cell_type": "markdown",
   "metadata": {},
   "source": [
    "# Exercise 9 - Validation"
   ]
  },
  {
   "cell_type": "markdown",
   "metadata": {},
   "source": [
    "- In your own words, explain what the last two lines of code do in the following code snippet:"
   ]
  },
  {
   "cell_type": "code",
   "execution_count": 32,
   "metadata": {},
   "outputs": [
    {
     "data": {
      "text/plain": [
       "0.97614938602520218"
      ]
     },
     "execution_count": 32,
     "metadata": {},
     "output_type": "execute_result"
    }
   ],
   "source": [
    "from sklearn.datasets import load_digits\n",
    "digits = load_digits()\n",
    "X = digits.data\n",
    "y = digits.target\n",
    "\n",
    "from sklearn.neighbors import KNeighborsClassifier\n",
    "from sklearn.cross_validation import cross_val_score\n",
    "cv = cross_val_score(KNeighborsClassifier(1), X, y, cv=10)\n",
    "cv.mean()"
   ]
  },
  {
   "cell_type": "markdown",
   "metadata": {},
   "source": [
    "# Exercise 9 - Validation Solution"
   ]
  },
  {
   "cell_type": "code",
   "execution_count": 2,
   "metadata": {
    "collapsed": true
   },
   "outputs": [],
   "source": [
    "\"\"\"\n",
    "The cross_val_score method creates a train/test split of the X y data.\n",
    "It trains the KNeighbours Classifier with the training portion.\n",
    "It then evaluates the performance of the classifier on the testing portion, returning a score.\n",
    "It performs this logic for 10 iterations (as defined by the last parameter), each time using a different fold of the training data for validation. \n",
    "All scores are saved to the array cv.\n",
    "\n",
    "The second line returns the mean of those scores.\n",
    "\"\"\""
   ]
  },
  {
   "cell_type": "markdown",
   "metadata": {},
   "source": [
    "# Exercise 10 - Watson"
   ]
  },
  {
   "cell_type": "markdown",
   "metadata": {},
   "source": [
    "# Using IBM Watson services, create a script that:\n",
    "\n",
    "- Detects the language in the following string of text\n",
    "- translates the language from the original language to English\n",
    "- synthesizes the result translation into a male voice in English and writes that to a wav file.\n",
    "\n",
    "> Parlare è facile. Mostrami il codice\n"
   ]
  },
  {
   "cell_type": "markdown",
   "metadata": {},
   "source": [
    "# Exercise 10 - Watson Solution"
   ]
  },
  {
   "cell_type": "code",
   "execution_count": 18,
   "metadata": {
    "collapsed": true
   },
   "outputs": [],
   "source": [
    "import json\n",
    "from watson_developer_cloud import LanguageTranslatorV2\n",
    "\n",
    "#Initialise language translation object\n",
    "language_translator = LanguageTranslatorV2(\n",
    "    username='9ce5b342-e945-42c3-9ed9-1fdf6aa366e2',\n",
    "    password='33EOQRsQBnO0')\n",
    "\n",
    "inputphrase = 'Parlare è facile. Mostrami il codice'\n",
    "data = language_translator.identify(inputphrase) #returns a dict of languages and associated confidence ratings\n",
    "language = data['languages'][0]['language'] #save the language with the highest confidence rating\n",
    "print(\"Phrase language: \",language)\n",
    "\n",
    "translation = json.dumps(language_translator.translate(inputphrase, source=language, target='en'), indent=2,\n",
    "                 ensure_ascii=False) #translate the given phrase into english\n",
    "print(\"Translation: \",translation)\n",
    "\n",
    "#Initialise test to speech object\n",
    "from os.path import join, dirname\n",
    "from watson_developer_cloud import TextToSpeechV1\n",
    "\n",
    "text_to_speech = TextToSpeechV1(\n",
    "    username='fc0d7118-c7cd-45d4-a352-d2ba794472a1',\n",
    "    password='zdLCXDKdgtQv',\n",
    "    x_watson_learning_opt_out=True)\n",
    "\n",
    "#create a file called 'output.wav' of a male voice reading outloud the translation phrase\n",
    "__file__ = ''\n",
    "with open(join(dirname(__file__), 'output.wav'), 'wb') as audio_file:\n",
    "    audio_file.write(text_to_speech.synthesize(translation, accept='audio/wav', voice=\"en-US_MichaelVoice\"))"
   ]
  },
  {
   "cell_type": "markdown",
   "metadata": {},
   "source": [
    "---------------------------------------------\n",
    "\n",
    "# Deliverables\n",
    "\n",
    "- You should hand in a single python notebook .ipynb (use this notebook template) containing all the necessary code to answer each of the previously enumerated tasks. \n",
    "- I recommend that you use the Spyder IDE to work on each exercise individually. Once you have a solution worked out, copy and paste the code into the corresponding code snippet placeholder.\n",
    "- Include comments in the code to clarify what you are doing. Use comments also to provide answers to each task when appropriate.\n",
    "- Please, make sure your code runs smoothly so I can execute it in my computer.\n",
    "- Name your file according to the following pattern: yourLastName_DSMI_A2.ipynb\n",
    "- Drop the file containing your assignment in the swallow box at location M:\\Assessments Swallow Box\\IN726001DataScienceAndMachineIntelligence\\Assignment2\n",
    "- The due date for handing in Assignment 2 is Monday the 14th of November at 5pm.\n",
    "\n",
    "**Final note**: If you get a good grade in this assignment, you should feel very confident and very proud about the skills you have acquired in the field of data mining/machine learning. The skills/knowledge required to carry out some of the exercises above are not trivial."
   ]
  }
 ],
 "metadata": {
  "anaconda-cloud": {},
  "kernelspec": {
   "display_name": "Python 3",
   "language": "python",
   "name": "python3"
  },
  "language_info": {
   "codemirror_mode": {
    "name": "ipython",
    "version": 3
   },
   "file_extension": ".py",
   "mimetype": "text/x-python",
   "name": "python",
   "nbconvert_exporter": "python",
   "pygments_lexer": "ipython3",
   "version": "3.5.4"
  }
 },
 "nbformat": 4,
 "nbformat_minor": 1
}
